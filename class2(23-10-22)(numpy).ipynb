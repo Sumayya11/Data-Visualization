{
 "cells": [
  {
   "cell_type": "code",
   "execution_count": 1,
   "id": "affeb478",
   "metadata": {},
   "outputs": [],
   "source": [
    "import numpy as np"
   ]
  },
  {
   "cell_type": "code",
   "execution_count": 4,
   "id": "311bbb75",
   "metadata": {},
   "outputs": [
    {
     "name": "stdout",
     "output_type": "stream",
     "text": [
      "[1, 2, 3]\n",
      "1\n",
      "2\n",
      "3\n",
      "[4, 5, 6]\n",
      "4\n",
      "5\n",
      "6\n",
      "[7, 8, 9]\n",
      "7\n",
      "8\n",
      "9\n"
     ]
    }
   ],
   "source": [
    "data = [[1,2,3],\n",
    "       [4,5,6],\n",
    "       [7,8,9]]\n",
    "for row in data:\n",
    "    print(row)\n",
    "    for col in row:\n",
    "        print(col)"
   ]
  },
  {
   "cell_type": "code",
   "execution_count": 5,
   "id": "82ba0233",
   "metadata": {},
   "outputs": [
    {
     "name": "stdout",
     "output_type": "stream",
     "text": [
      "(0, [1, 2, 3])\n",
      "(0, 0)\n",
      "(1, [1, 2, 3])\n",
      "(1, [4, 5, 6])\n",
      "(0, 1)\n",
      "(1, [4, 5, 6])\n",
      "(2, [7, 8, 9])\n",
      "(0, 2)\n",
      "(1, [7, 8, 9])\n"
     ]
    }
   ],
   "source": [
    "#enumerate return index no and its value\n",
    "data = [[1,2,3],\n",
    "       [4,5,6],\n",
    "       [7,8,9]]\n",
    "for row in enumerate(data):\n",
    "    print(row)\n",
    "    for col in enumerate(row):\n",
    "        print(col)"
   ]
  },
  {
   "cell_type": "code",
   "execution_count": 7,
   "id": "3271901c",
   "metadata": {},
   "outputs": [
    {
     "data": {
      "text/plain": [
       "[[1, 7, 3], [4, 5, 6], [7, 8, 9]]"
      ]
     },
     "execution_count": 7,
     "metadata": {},
     "output_type": "execute_result"
    }
   ],
   "source": [
    "data = [[1,2,3],\n",
    "       [4,5,6],\n",
    "       [7,8,9]]\n",
    "data[0][1] = 7\n",
    "data"
   ]
  },
  {
   "cell_type": "code",
   "execution_count": 9,
   "id": "8b110895",
   "metadata": {},
   "outputs": [
    {
     "name": "stdout",
     "output_type": "stream",
     "text": [
      "0\n",
      "0,1,2,1\n",
      "0,1,2,2\n",
      "0,1,2,"
     ]
    }
   ],
   "source": [
    "data = [[1,2,3],\n",
    "       [4,5,6],\n",
    "       [7,8,9]]\n",
    "for row_idx,row in enumerate(data):\n",
    "    print(row_idx)\n",
    "    for col_idx,col in enumerate(row):\n",
    "        print(col_idx,end = ',')"
   ]
  },
  {
   "cell_type": "code",
   "execution_count": 3,
   "id": "f99226d2",
   "metadata": {},
   "outputs": [
    {
     "data": {
      "text/plain": [
       "[[6, 7, 8], [9, 10, 11], [12, 13, 14]]"
      ]
     },
     "execution_count": 3,
     "metadata": {},
     "output_type": "execute_result"
    }
   ],
   "source": [
    "data = [[1,2,3],\n",
    "       [4,5,6],\n",
    "       [7,8,9]]\n",
    "for row_idx,row in enumerate(data):\n",
    "    for col_idx,col in enumerate(row):\n",
    "        data[row_idx][col_idx] = data[row_idx][col_idx]+5\n",
    "data"
   ]
  },
  {
   "cell_type": "code",
   "execution_count": 4,
   "id": "ebfe8643",
   "metadata": {},
   "outputs": [
    {
     "data": {
      "text/plain": [
       "[(0, 'qasim'), (1, 'hamza'), (2, 'asif')]"
      ]
     },
     "execution_count": 4,
     "metadata": {},
     "output_type": "execute_result"
    }
   ],
   "source": [
    "list(enumerate(['qasim','hamza','asif']))"
   ]
  },
  {
   "cell_type": "code",
   "execution_count": 5,
   "id": "883c296c",
   "metadata": {},
   "outputs": [
    {
     "name": "stdout",
     "output_type": "stream",
     "text": [
      "0 qasim\n"
     ]
    }
   ],
   "source": [
    "index,value = (0,'qasim')\n",
    "print(index,value)"
   ]
  },
  {
   "cell_type": "code",
   "execution_count": 6,
   "id": "f368a5df",
   "metadata": {},
   "outputs": [
    {
     "data": {
      "text/plain": [
       "list"
      ]
     },
     "execution_count": 6,
     "metadata": {},
     "output_type": "execute_result"
    }
   ],
   "source": [
    "type(data)"
   ]
  },
  {
   "cell_type": "markdown",
   "id": "c368da4f",
   "metadata": {},
   "source": [
    "# doing same thing with numpy"
   ]
  },
  {
   "cell_type": "code",
   "execution_count": 7,
   "id": "d6ec6505",
   "metadata": {},
   "outputs": [],
   "source": [
    "import numpy as np"
   ]
  },
  {
   "cell_type": "code",
   "execution_count": 8,
   "id": "36b4697a",
   "metadata": {},
   "outputs": [
    {
     "data": {
      "text/plain": [
       "array([[ 6,  7,  8],\n",
       "       [ 9, 10, 11],\n",
       "       [12, 13, 14]])"
      ]
     },
     "execution_count": 8,
     "metadata": {},
     "output_type": "execute_result"
    }
   ],
   "source": [
    "data = np.array([[1,2,3],\n",
    "       [4,5,6],\n",
    "       [7,8,9]])\n",
    "data+5"
   ]
  },
  {
   "cell_type": "code",
   "execution_count": 9,
   "id": "455d92ff",
   "metadata": {},
   "outputs": [
    {
     "data": {
      "text/plain": [
       "numpy.ndarray"
      ]
     },
     "execution_count": 9,
     "metadata": {},
     "output_type": "execute_result"
    }
   ],
   "source": [
    "type(data)"
   ]
  },
  {
   "cell_type": "code",
   "execution_count": 20,
   "id": "3950f9f8",
   "metadata": {},
   "outputs": [
    {
     "data": {
      "text/plain": [
       "array([[[0.        , 0.00392157, 0.00784314, 0.01176471, 0.01568627,\n",
       "         0.01960784, 0.02352941, 0.02745098, 0.03137255, 0.03529412],\n",
       "        [0.03921569, 0.04313725, 0.04705882, 0.05098039, 0.05490196,\n",
       "         0.05882353, 0.0627451 , 0.06666667, 0.07058824, 0.0745098 ],\n",
       "        [0.07843137, 0.08235294, 0.08627451, 0.09019608, 0.09411765,\n",
       "         0.09803922, 0.10196078, 0.10588235, 0.10980392, 0.11372549],\n",
       "        [0.11764706, 0.12156863, 0.1254902 , 0.12941176, 0.13333333,\n",
       "         0.1372549 , 0.14117647, 0.14509804, 0.14901961, 0.15294118],\n",
       "        [0.15686275, 0.16078431, 0.16470588, 0.16862745, 0.17254902,\n",
       "         0.17647059, 0.18039216, 0.18431373, 0.18823529, 0.19215686],\n",
       "        [0.19607843, 0.2       , 0.20392157, 0.20784314, 0.21176471,\n",
       "         0.21568627, 0.21960784, 0.22352941, 0.22745098, 0.23137255],\n",
       "        [0.23529412, 0.23921569, 0.24313725, 0.24705882, 0.25098039,\n",
       "         0.25490196, 0.25882353, 0.2627451 , 0.26666667, 0.27058824],\n",
       "        [0.2745098 , 0.27843137, 0.28235294, 0.28627451, 0.29019608,\n",
       "         0.29411765, 0.29803922, 0.30196078, 0.30588235, 0.30980392],\n",
       "        [0.31372549, 0.31764706, 0.32156863, 0.3254902 , 0.32941176,\n",
       "         0.33333333, 0.3372549 , 0.34117647, 0.34509804, 0.34901961],\n",
       "        [0.35294118, 0.35686275, 0.36078431, 0.36470588, 0.36862745,\n",
       "         0.37254902, 0.37647059, 0.38039216, 0.38431373, 0.38823529]],\n",
       "\n",
       "       [[0.39215686, 0.39607843, 0.4       , 0.40392157, 0.40784314,\n",
       "         0.41176471, 0.41568627, 0.41960784, 0.42352941, 0.42745098],\n",
       "        [0.43137255, 0.43529412, 0.43921569, 0.44313725, 0.44705882,\n",
       "         0.45098039, 0.45490196, 0.45882353, 0.4627451 , 0.46666667],\n",
       "        [0.47058824, 0.4745098 , 0.47843137, 0.48235294, 0.48627451,\n",
       "         0.49019608, 0.49411765, 0.49803922, 0.50196078, 0.50588235],\n",
       "        [0.50980392, 0.51372549, 0.51764706, 0.52156863, 0.5254902 ,\n",
       "         0.52941176, 0.53333333, 0.5372549 , 0.54117647, 0.54509804],\n",
       "        [0.54901961, 0.55294118, 0.55686275, 0.56078431, 0.56470588,\n",
       "         0.56862745, 0.57254902, 0.57647059, 0.58039216, 0.58431373],\n",
       "        [0.58823529, 0.59215686, 0.59607843, 0.6       , 0.60392157,\n",
       "         0.60784314, 0.61176471, 0.61568627, 0.61960784, 0.62352941],\n",
       "        [0.62745098, 0.63137255, 0.63529412, 0.63921569, 0.64313725,\n",
       "         0.64705882, 0.65098039, 0.65490196, 0.65882353, 0.6627451 ],\n",
       "        [0.66666667, 0.67058824, 0.6745098 , 0.67843137, 0.68235294,\n",
       "         0.68627451, 0.69019608, 0.69411765, 0.69803922, 0.70196078],\n",
       "        [0.70588235, 0.70980392, 0.71372549, 0.71764706, 0.72156863,\n",
       "         0.7254902 , 0.72941176, 0.73333333, 0.7372549 , 0.74117647],\n",
       "        [0.74509804, 0.74901961, 0.75294118, 0.75686275, 0.76078431,\n",
       "         0.76470588, 0.76862745, 0.77254902, 0.77647059, 0.78039216]],\n",
       "\n",
       "       [[0.78431373, 0.78823529, 0.79215686, 0.79607843, 0.8       ,\n",
       "         0.80392157, 0.80784314, 0.81176471, 0.81568627, 0.81960784],\n",
       "        [0.82352941, 0.82745098, 0.83137255, 0.83529412, 0.83921569,\n",
       "         0.84313725, 0.84705882, 0.85098039, 0.85490196, 0.85882353],\n",
       "        [0.8627451 , 0.86666667, 0.87058824, 0.8745098 , 0.87843137,\n",
       "         0.88235294, 0.88627451, 0.89019608, 0.89411765, 0.89803922],\n",
       "        [0.90196078, 0.90588235, 0.90980392, 0.91372549, 0.91764706,\n",
       "         0.92156863, 0.9254902 , 0.92941176, 0.93333333, 0.9372549 ],\n",
       "        [0.94117647, 0.94509804, 0.94901961, 0.95294118, 0.95686275,\n",
       "         0.96078431, 0.96470588, 0.96862745, 0.97254902, 0.97647059],\n",
       "        [0.98039216, 0.98431373, 0.98823529, 0.99215686, 0.99607843,\n",
       "         1.        , 1.00392157, 1.00784314, 1.01176471, 1.01568627],\n",
       "        [1.01960784, 1.02352941, 1.02745098, 1.03137255, 1.03529412,\n",
       "         1.03921569, 1.04313725, 1.04705882, 1.05098039, 1.05490196],\n",
       "        [1.05882353, 1.0627451 , 1.06666667, 1.07058824, 1.0745098 ,\n",
       "         1.07843137, 1.08235294, 1.08627451, 1.09019608, 1.09411765],\n",
       "        [1.09803922, 1.10196078, 1.10588235, 1.10980392, 1.11372549,\n",
       "         1.11764706, 1.12156863, 1.1254902 , 1.12941176, 1.13333333],\n",
       "        [1.1372549 , 1.14117647, 1.14509804, 1.14901961, 1.15294118,\n",
       "         1.15686275, 1.16078431, 1.16470588, 1.16862745, 1.17254902]]])"
      ]
     },
     "execution_count": 20,
     "metadata": {},
     "output_type": "execute_result"
    }
   ],
   "source": [
    "data=np.arange(2*3*10*10).reshape(2,3,10,10)     #to know the dimension check open brackets\n",
    "data[0] / 255                                    #coverting into grayscale"
   ]
  },
  {
   "cell_type": "markdown",
   "id": "8b9d32e3",
   "metadata": {},
   "source": [
    "# numpy basics"
   ]
  },
  {
   "cell_type": "code",
   "execution_count": 11,
   "id": "806de445",
   "metadata": {},
   "outputs": [
    {
     "data": {
      "text/plain": [
       "array([ 1,  2,  3,  4,  5,  6,  7,  8,  9, 10])"
      ]
     },
     "execution_count": 11,
     "metadata": {},
     "output_type": "execute_result"
    }
   ],
   "source": [
    "a = np.arange(1,11)\n",
    "a"
   ]
  },
  {
   "cell_type": "code",
   "execution_count": 12,
   "id": "61e1966e",
   "metadata": {},
   "outputs": [
    {
     "data": {
      "text/plain": [
       "array([ 2,  4,  6,  8, 10, 12, 14, 16, 18, 20])"
      ]
     },
     "execution_count": 12,
     "metadata": {},
     "output_type": "execute_result"
    }
   ],
   "source": [
    "#printing table of 2\n",
    "a*2"
   ]
  },
  {
   "cell_type": "code",
   "execution_count": 13,
   "id": "dce70a00",
   "metadata": {},
   "outputs": [
    {
     "data": {
      "text/plain": [
       "array([ 2,  4,  6,  8, 10, 12, 14, 16, 18, 20])"
      ]
     },
     "execution_count": 13,
     "metadata": {},
     "output_type": "execute_result"
    }
   ],
   "source": [
    "#another way to print table of 2\n",
    "a = np.arange(2,21,2)    #last 2 is step size (start,stop,stepsize)\n",
    "a"
   ]
  },
  {
   "cell_type": "code",
   "execution_count": 14,
   "id": "f6fa36dd",
   "metadata": {},
   "outputs": [
    {
     "data": {
      "text/plain": [
       "array([1, 2, 3])"
      ]
     },
     "execution_count": 14,
     "metadata": {},
     "output_type": "execute_result"
    }
   ],
   "source": [
    "a = np.array([1,2,3])\n",
    "a"
   ]
  },
  {
   "cell_type": "code",
   "execution_count": 15,
   "id": "e4451fa5",
   "metadata": {},
   "outputs": [
    {
     "name": "stdout",
     "output_type": "stream",
     "text": [
      "shape (3, 3)\n",
      "dimension 2\n",
      "size 9\n"
     ]
    }
   ],
   "source": [
    "a = np.array([[1,2,3],\n",
    "       [4,5,6],\n",
    "       [7,8,9]]  )    #object depend on methods and attributes      #rows ik dimension hai,rows k total index 3 hain\n",
    "shape = print('shape',a.shape)    #each dimension number axis\n",
    "dim = print('dimension',a.ndim)   #total dimension axis\n",
    "size = print('size',a.size)    #total elements"
   ]
  },
  {
   "cell_type": "code",
   "execution_count": 31,
   "id": "42001d53",
   "metadata": {},
   "outputs": [
    {
     "name": "stdout",
     "output_type": "stream",
     "text": [
      "shape (2, 3)\n",
      "dimension 2\n",
      "size 6\n"
     ]
    }
   ],
   "source": [
    "a = np.array([[1,2,3],\n",
    "       [4,5,6]]  )    #object depend on methods and attributes      #rows ik dimension hai,rows k total index 3 hain\n",
    "shape = print('shape',a.shape)    #each dimension number axis\n",
    "dim = print('dimension',a.ndim)   #total dimension axis\n",
    "size = print('size',a.size)    #total elements"
   ]
  },
  {
   "cell_type": "code",
   "execution_count": 35,
   "id": "7b4297f9",
   "metadata": {},
   "outputs": [
    {
     "name": "stdout",
     "output_type": "stream",
     "text": [
      "shape (3, 4)\n"
     ]
    },
    {
     "data": {
      "text/plain": [
       "array([1, 4, 7])"
      ]
     },
     "execution_count": 35,
     "metadata": {},
     "output_type": "execute_result"
    }
   ],
   "source": [
    "a = np.array([[1,2,3,10],\n",
    "       [4,5,6,11],\n",
    "       [7,8,9,12]]  ) \n",
    "a[1][2]\n",
    "print('shape',a.shape)    #(3,4)---max 3 values including 0,1,2\n",
    "a[1,2]\n",
    "a[:,0]    #all rows of column 0"
   ]
  },
  {
   "cell_type": "code",
   "execution_count": 36,
   "id": "33b31a8f",
   "metadata": {},
   "outputs": [
    {
     "data": {
      "text/plain": [
       "array([10, 11, 12])"
      ]
     },
     "execution_count": 36,
     "metadata": {},
     "output_type": "execute_result"
    }
   ],
   "source": [
    "a = np.array([[1,2,3,10],\n",
    "       [4,5,6,11],\n",
    "       [7,8,9,12]]  ) \n",
    "a[:,-1]     #all rows of last column"
   ]
  },
  {
   "cell_type": "code",
   "execution_count": 37,
   "id": "bf2108cc",
   "metadata": {},
   "outputs": [
    {
     "data": {
      "text/plain": [
       "array([ 4,  5,  6, 11])"
      ]
     },
     "execution_count": 37,
     "metadata": {},
     "output_type": "execute_result"
    }
   ],
   "source": [
    "a = np.array([[1,2,3,10],\n",
    "       [4,5,6,11],\n",
    "       [7,8,9,12]]  ) \n",
    "a[1,:]   #all columns of index 1 row means 2nd row"
   ]
  },
  {
   "cell_type": "markdown",
   "id": "d572ebba",
   "metadata": {},
   "source": [
    "# list"
   ]
  },
  {
   "cell_type": "code",
   "execution_count": 39,
   "id": "60e63efe",
   "metadata": {},
   "outputs": [],
   "source": [
    "a = [[1,2,3,10],\n",
    "       [4,5,6,11],\n",
    "       [7,8,9,12]]\n"
   ]
  },
  {
   "cell_type": "code",
   "execution_count": 16,
   "id": "c0776bf5",
   "metadata": {},
   "outputs": [
    {
     "data": {
      "text/plain": [
       "array([ 0,  1,  2,  3,  4,  5,  6,  7,  8,  9, 10, 11, 12, 13, 14, 15, 16,\n",
       "       17, 18, 19, 20, 21, 22, 23, 24, 25, 26, 27, 28, 29, 30, 31, 32, 33,\n",
       "       34, 35, 36, 37, 38, 39, 40, 41, 42, 43, 44, 45, 46, 47, 48, 49, 50,\n",
       "       51, 52, 53, 54, 55, 56, 57, 58, 59, 60, 61, 62, 63, 64, 65, 66, 67,\n",
       "       68, 69, 70, 71, 72, 73, 74, 75, 76, 77, 78, 79, 80, 81, 82, 83, 84,\n",
       "       85, 86, 87, 88, 89, 90, 91, 92, 93, 94, 95, 96, 97, 98, 99])"
      ]
     },
     "execution_count": 16,
     "metadata": {},
     "output_type": "execute_result"
    }
   ],
   "source": [
    "data = np.arange(10*10)  #100 values\n",
    "data"
   ]
  },
  {
   "cell_type": "code",
   "execution_count": 48,
   "id": "c670a113",
   "metadata": {},
   "outputs": [
    {
     "name": "stdout",
     "output_type": "stream",
     "text": [
      "[[ 0  1  2  3  4  5  6  7  8  9]\n",
      " [10 11 12 13 14 15 16 17 18 19]\n",
      " [20 21 22 23 24 25 26 27 28 29]\n",
      " [30 31 32 33 34 35 36 37 38 39]\n",
      " [40 41 42 43 44 45 46 47 48 49]\n",
      " [50 51 52 53 54 55 56 57 58 59]\n",
      " [60 61 62 63 64 65 66 67 68 69]\n",
      " [70 71 72 73 74 75 76 77 78 79]\n",
      " [80 81 82 83 84 85 86 87 88 89]\n",
      " [90 91 92 93 94 95 96 97 98 99]]\n",
      "55\n"
     ]
    }
   ],
   "source": [
    "data = np.arange(10*10).reshape(10,10)    #reshape(num_row,col_row)   #100 values,10 by 10 matrix\n",
    "print(data)\n",
    "#print(data[5: , 5:])\n",
    "print(data[5,5])"
   ]
  },
  {
   "cell_type": "code",
   "execution_count": 52,
   "id": "bbb5c214",
   "metadata": {},
   "outputs": [
    {
     "data": {
      "text/plain": [
       "array([[  0,   1,   2,   3,   4,   5,   6,   7,   8,   9,  10],\n",
       "       [ 11,  12,  13,  14,  15,  16,  17,  18,  19,  20,  21],\n",
       "       [ 22,  23,  24,  25,  26,  27,  28,  29,  30,  31,  32],\n",
       "       [ 33,  34,  35,  36,  37,  38,  39,  40,  41,  42,  43],\n",
       "       [ 44,  45,  46,  47,  48,  49,  50,  51,  52,  53,  54],\n",
       "       [ 55,  56,  57,  58,  59,  60,  61,  62,  63,  64,  65],\n",
       "       [ 66,  67,  68,  69,  70,  71,  72,  73,  74,  75,  76],\n",
       "       [ 77,  78,  79,  80,  81,  82,  83,  84,  85,  86,  87],\n",
       "       [ 88,  89,  90,  91,  92,  93,  94,  95,  96,  97,  98],\n",
       "       [ 99, 100, 101, 102, 103, 104, 105, 106, 107, 108, 109],\n",
       "       [110, 111, 112, 113, 114, 115, 116, 117, 118, 119, 120]])"
      ]
     },
     "execution_count": 52,
     "metadata": {},
     "output_type": "execute_result"
    }
   ],
   "source": [
    "data = np.arange(11*11).reshape(11,11)\n",
    "data"
   ]
  },
  {
   "cell_type": "code",
   "execution_count": 59,
   "id": "cd59bda2",
   "metadata": {},
   "outputs": [
    {
     "data": {
      "text/plain": [
       "array([[24, 25, 26, 27, 28, 29, 30],\n",
       "       [35, 36, 37, 38, 39, 40, 41],\n",
       "       [46, 47, 48, 49, 50, 51, 52],\n",
       "       [57, 58, 59, 60, 61, 62, 63],\n",
       "       [68, 69, 70, 71, 72, 73, 74],\n",
       "       [79, 80, 81, 82, 83, 84, 85],\n",
       "       [90, 91, 92, 93, 94, 95, 96]])"
      ]
     },
     "execution_count": 59,
     "metadata": {},
     "output_type": "execute_result"
    }
   ],
   "source": [
    "    #rows  #col\n",
    "data[2:9 , 2:9]    # or [2:-2,2:-2]"
   ]
  },
  {
   "cell_type": "code",
   "execution_count": 60,
   "id": "a10335a4",
   "metadata": {},
   "outputs": [
    {
     "data": {
      "text/plain": [
       "array([0., 0., 0., 0., 0., 0., 0., 0., 0., 0.])"
      ]
     },
     "execution_count": 60,
     "metadata": {},
     "output_type": "execute_result"
    }
   ],
   "source": [
    "np.zeros(10)"
   ]
  },
  {
   "cell_type": "code",
   "execution_count": 62,
   "id": "5dd124c7",
   "metadata": {},
   "outputs": [
    {
     "name": "stderr",
     "output_type": "stream",
     "text": [
      "C:\\Users\\FIVEST~1\\AppData\\Local\\Temp/ipykernel_9916/3614971221.py:1: DeprecationWarning: `np.int` is a deprecated alias for the builtin `int`. To silence this warning, use `int` by itself. Doing this will not modify any behavior and is safe. When replacing `np.int`, you may wish to use e.g. `np.int64` or `np.int32` to specify the precision. If you wish to review your current use, check the release note link for additional information.\n",
      "Deprecated in NumPy 1.20; for more details and guidance: https://numpy.org/devdocs/release/1.20.0-notes.html#deprecations\n",
      "  np.zeros(10,dtype = np.int)\n"
     ]
    },
    {
     "data": {
      "text/plain": [
       "array([0, 0, 0, 0, 0, 0, 0, 0, 0, 0])"
      ]
     },
     "execution_count": 62,
     "metadata": {},
     "output_type": "execute_result"
    }
   ],
   "source": [
    "np.zeros(10,dtype = np.int)"
   ]
  },
  {
   "cell_type": "code",
   "execution_count": 63,
   "id": "a15c8c25",
   "metadata": {},
   "outputs": [
    {
     "data": {
      "text/plain": [
       "array([[1, 1, 1, 1, 1, 1, 1, 1, 1, 1, 1],\n",
       "       [1, 1, 1, 1, 1, 1, 1, 1, 1, 1, 1],\n",
       "       [1, 1, 1, 1, 1, 1, 1, 1, 1, 1, 1],\n",
       "       [1, 1, 1, 1, 1, 1, 1, 1, 1, 1, 1],\n",
       "       [1, 1, 1, 1, 1, 1, 1, 1, 1, 1, 1],\n",
       "       [1, 1, 1, 1, 1, 1, 1, 1, 1, 1, 1],\n",
       "       [1, 1, 1, 1, 1, 1, 1, 1, 1, 1, 1],\n",
       "       [1, 1, 1, 1, 1, 1, 1, 1, 1, 1, 1],\n",
       "       [1, 1, 1, 1, 1, 1, 1, 1, 1, 1, 1],\n",
       "       [1, 1, 1, 1, 1, 1, 1, 1, 1, 1, 1],\n",
       "       [1, 1, 1, 1, 1, 1, 1, 1, 1, 1, 1]])"
      ]
     },
     "execution_count": 63,
     "metadata": {},
     "output_type": "execute_result"
    }
   ],
   "source": [
    "np.ones_like(data)"
   ]
  },
  {
   "cell_type": "code",
   "execution_count": 64,
   "id": "b8f821b6",
   "metadata": {},
   "outputs": [
    {
     "data": {
      "text/plain": [
       "array([0., 0., 0., 0., 0., 0., 0., 0., 0., 0.])"
      ]
     },
     "execution_count": 64,
     "metadata": {},
     "output_type": "execute_result"
    }
   ],
   "source": [
    "np.empty(10)"
   ]
  },
  {
   "cell_type": "code",
   "execution_count": 65,
   "id": "35669f5f",
   "metadata": {},
   "outputs": [
    {
     "data": {
      "text/plain": [
       "array([[ -538840976,          40,  -596197616,          40,       65537,\n",
       "           40108033,     5836890,     3146350,    73662567,   291111330,\n",
       "           23337082],\n",
       "       [  309068388,    23335514,   325845604,    90444634,     5706842,\n",
       "             274030,   -25619099,       65537,   107216897,    23336026,\n",
       "          376177252],\n",
       "       [   23336538,   392954468,    23336794,   409731684,     5838938,\n",
       "            3170414,   123994468,   426578796,   443357530,   460135002,\n",
       "          476912474],\n",
       "       [  493689946,   510467418,   527244890,   544022362,   560799834,\n",
       "          577577306,   594354778,   611132250,   627909722,   644687194,\n",
       "          661464666],\n",
       "       [  678242138,   695019610,   711797082,       76378,   731910501,\n",
       "          140771431,    27328930,     4653057,   174328164,   174325892,\n",
       "           58928229],\n",
       "       [    4664666,   207883108,   207880324,    58928485,     4664922,\n",
       "          241438052,   241434756,    58928485,   342175578, -1267596912,\n",
       "          258211911],\n",
       "       [    8654948,    42143844,     4665434,   308547940,   308543620,\n",
       "           58929509,   644756058,   392508261,   342102884,   878314371,\n",
       "          409285989],\n",
       "       [   42145124,  -730726000,   912922725,   107886426,   946477157,\n",
       "          342177626,  -294518384,   962200164,   392435300,   978976900,\n",
       "            6753390],\n",
       "       [  409221466,     8656740,   425998938,   442776410,   459553882,\n",
       "          476331354,     8658276,   509886042,     8658788,    40124250,\n",
       "           27009124],\n",
       "       [  576987492,  1079640708,   610542436,  1096417412,   543425124,\n",
       "          627311004,    42215012,     4670042,   677652324,   677642372,\n",
       "           58934117],\n",
       "       [   40125530,    40109668,   694421092,   711197852,    42216292,\n",
       "          744768858,     8662372,   778323546,     8662884,   811878234,\n",
       "            8663396]])"
      ]
     },
     "execution_count": 65,
     "metadata": {},
     "output_type": "execute_result"
    }
   ],
   "source": [
    "np.empty_like(data)"
   ]
  },
  {
   "cell_type": "markdown",
   "id": "59ea0db4",
   "metadata": {},
   "source": [
    "# 1-2,generate between 1 and 2, total equal steps 5"
   ]
  },
  {
   "cell_type": "code",
   "execution_count": 67,
   "id": "2cba1228",
   "metadata": {},
   "outputs": [
    {
     "data": {
      "text/plain": [
       "array([1.  , 1.25, 1.5 , 1.75, 2.  ])"
      ]
     },
     "execution_count": 67,
     "metadata": {},
     "output_type": "execute_result"
    }
   ],
   "source": [
    "np.linspace(1,2,5)"
   ]
  },
  {
   "cell_type": "code",
   "execution_count": 69,
   "id": "0d3ccaa1",
   "metadata": {},
   "outputs": [
    {
     "data": {
      "text/plain": [
       "array([1.  , 1.25, 1.5 , 1.75, 2.  ])"
      ]
     },
     "execution_count": 69,
     "metadata": {},
     "output_type": "execute_result"
    }
   ],
   "source": [
    "np.arange(1,2.25,0.25)   #ismy phr bhi calculations krna pari hain"
   ]
  },
  {
   "cell_type": "markdown",
   "id": "a322bffe",
   "metadata": {},
   "source": [
    "# Sorting"
   ]
  },
  {
   "cell_type": "code",
   "execution_count": 17,
   "id": "37851328",
   "metadata": {},
   "outputs": [
    {
     "data": {
      "text/plain": [
       "array([ 8,  4,  2,  3,  1,  6,  9,  5,  7, 10])"
      ]
     },
     "execution_count": 17,
     "metadata": {},
     "output_type": "execute_result"
    }
   ],
   "source": [
    "d = np.array([8,4,2,3,1,6,9,5,7,10])\n",
    "d"
   ]
  },
  {
   "cell_type": "code",
   "execution_count": 18,
   "id": "55ee9ca7",
   "metadata": {},
   "outputs": [
    {
     "name": "stdout",
     "output_type": "stream",
     "text": [
      "raw d values [ 8  4  2  3  1  6  9  5  7 10]\n"
     ]
    },
    {
     "data": {
      "text/plain": [
       "array([ 1,  2,  3,  4,  5,  6,  7,  8,  9, 10])"
      ]
     },
     "execution_count": 18,
     "metadata": {},
     "output_type": "execute_result"
    }
   ],
   "source": [
    "print(\"raw d values\",d)\n",
    "np.sort(d)"
   ]
  },
  {
   "cell_type": "code",
   "execution_count": 19,
   "id": "8f7ddddb",
   "metadata": {},
   "outputs": [
    {
     "data": {
      "text/plain": [
       "[(0, 8),\n",
       " (1, 4),\n",
       " (2, 2),\n",
       " (3, 3),\n",
       " (4, 1),\n",
       " (5, 6),\n",
       " (6, 9),\n",
       " (7, 5),\n",
       " (8, 7),\n",
       " (9, 10)]"
      ]
     },
     "execution_count": 19,
     "metadata": {},
     "output_type": "execute_result"
    }
   ],
   "source": [
    "list(enumerate([ 8 , 4,  2,  3,  1,  6,  9,  5,  7, 10]))"
   ]
  },
  {
   "cell_type": "code",
   "execution_count": 21,
   "id": "bef8a04e",
   "metadata": {},
   "outputs": [
    {
     "name": "stdout",
     "output_type": "stream",
     "text": [
      "raw d values [ 8  4  2  3  1  6  9  5  7 10]\n"
     ]
    },
    {
     "data": {
      "text/plain": [
       "array([4, 2, 3, 1, 7, 5, 8, 0, 6, 9], dtype=int64)"
      ]
     },
     "execution_count": 21,
     "metadata": {},
     "output_type": "execute_result"
    }
   ],
   "source": [
    "print(\"raw d values\",d)\n",
    "np.argsort(d)    #gives the index in sorted manner"
   ]
  },
  {
   "cell_type": "code",
   "execution_count": 22,
   "id": "71808fab",
   "metadata": {},
   "outputs": [
    {
     "data": {
      "text/plain": [
       "10"
      ]
     },
     "execution_count": 22,
     "metadata": {},
     "output_type": "execute_result"
    }
   ],
   "source": [
    "d = np.array([8,4,2,3,1,6,9,5,7,10])\n",
    "d.searchsorted(11)"
   ]
  },
  {
   "cell_type": "code",
   "execution_count": 23,
   "id": "cb7e3209",
   "metadata": {},
   "outputs": [
    {
     "name": "stdout",
     "output_type": "stream",
     "text": [
      "a [1 2 3 4]\n",
      "b [5 6 7 8]\n"
     ]
    },
    {
     "data": {
      "text/plain": [
       "array([1, 2, 3, 4, 5, 6, 7, 8])"
      ]
     },
     "execution_count": 23,
     "metadata": {},
     "output_type": "execute_result"
    }
   ],
   "source": [
    "a = np.array([1, 2, 3, 4])\n",
    "b = np.array([5, 6, 7, 8])\n",
    "print(\"a\",a)\n",
    "print(\"b\",b)\n",
    "np.concatenate((a,b))"
   ]
  },
  {
   "cell_type": "code",
   "execution_count": null,
   "id": "56e1d364",
   "metadata": {},
   "outputs": [],
   "source": []
  }
 ],
 "metadata": {
  "kernelspec": {
   "display_name": "Python 3 (ipykernel)",
   "language": "python",
   "name": "python3"
  },
  "language_info": {
   "codemirror_mode": {
    "name": "ipython",
    "version": 3
   },
   "file_extension": ".py",
   "mimetype": "text/x-python",
   "name": "python",
   "nbconvert_exporter": "python",
   "pygments_lexer": "ipython3",
   "version": "3.9.7"
  }
 },
 "nbformat": 4,
 "nbformat_minor": 5
}
